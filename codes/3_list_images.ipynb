{
 "cells": [
  {
   "cell_type": "markdown",
   "metadata": {},
   "source": [
    "# List Images\n",
    "This code will list the crop filenames and their path and saves these values in an excel sheet.\n"
   ]
  },
  {
   "cell_type": "code",
   "execution_count": 1,
   "metadata": {},
   "outputs": [],
   "source": [
    "from __future__ import division, print_function\n",
    "from collections import defaultdict\n",
    "from skimage import io\n",
    "from skimage.util.shape import view_as_windows\n",
    "from skimage.util import crop\n",
    "import matplotlib.pyplot as plt\n",
    "import numpy as np\n",
    "from PIL import Image\n",
    "Image.MAX_IMAGE_PIXELS = 2000000000"
   ]
  },
  {
   "cell_type": "code",
   "execution_count": 2,
   "metadata": {},
   "outputs": [],
   "source": [
    "# initializing variables\n",
    "main_folder = '../data/processed/coherent_tiles'  # input image directory\n",
    "out_csv_folder = '../data/processed/' # output CSV directory"
   ]
  },
  {
   "cell_type": "code",
   "execution_count": 3,
   "metadata": {},
   "outputs": [
    {
     "name": "stderr",
     "output_type": "stream",
     "text": [
      "100%|██████████| 66769/66769 [00:00<00:00, 157641.23it/s]\n"
     ]
    }
   ],
   "source": [
    "from tqdm import tqdm\n",
    "import os\n",
    "import csv\n",
    "\n",
    "# generate the necessary output directories if they do not currenty exist\n",
    "if not os.path.exists(out_csv_folder) :os.makedirs(out_csv_folder)\n",
    "\n",
    "# find all images in the input directory and crop each image into small tiles\n",
    "filelist = [file for file in os.listdir(main_folder) if file.endswith(('.jpg'))]\n",
    "\n",
    "f = open(os.path.join(out_csv_folder, 'all_tiles.csv'), 'w', newline='')\n",
    "fieldnames = ['filename', 'path']\n",
    "writer = csv.DictWriter(f, fieldnames=fieldnames)\n",
    "writer.writeheader()\n",
    "\n",
    "for i in tqdm(range(len(filelist))):\n",
    "    writer.writerow({'filename': \"%s\" % (os.path.splitext(filelist[i])[0]),\n",
    "          'path': os.path.join(main_folder, filelist[i])})\n",
    "f.close()"
   ]
  }
 ],
 "metadata": {
  "kernelspec": {
   "display_name": "Python 3.8.13 ('fastai')",
   "language": "python",
   "name": "python3"
  },
  "language_info": {
   "codemirror_mode": {
    "name": "ipython",
    "version": 3
   },
   "file_extension": ".py",
   "mimetype": "text/x-python",
   "name": "python",
   "nbconvert_exporter": "python",
   "pygments_lexer": "ipython3",
   "version": "3.8.12"
  },
  "orig_nbformat": 4,
  "vscode": {
   "interpreter": {
    "hash": "553cb25bfdc98054443abdd6e854c3e1fca537575f7c5cca6debc8a204c01692"
   }
  }
 },
 "nbformat": 4,
 "nbformat_minor": 2
}
